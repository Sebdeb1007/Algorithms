{
 "cells": [
  {
   "cell_type": "markdown",
   "metadata": {},
   "source": [
    "#Undirected graph iterable and subscritable\n",
    "\n",
    "simple example \n",
    "\n",
    "![alt text](undirected.PNG \"Title\")"
   ]
  },
  {
   "cell_type": "code",
   "execution_count": 1,
   "metadata": {},
   "outputs": [
    {
     "name": "stdout",
     "output_type": "stream",
     "text": [
      "Graph : \n",
      "A : {('A', 'B')}\n",
      "B : {('B', 'C'), ('B', 'A'), ('B', 'D')}\n",
      "C : {('C', 'D'), ('C', 'B')}\n",
      "D : {('D', 'C'), ('D', 'B')}\n",
      "\n",
      "{('A', 'B')}\n"
     ]
    }
   ],
   "source": [
    "\n",
    "#Undirected and unweighted graph\n",
    "\n",
    "class UndirectedGraph:\n",
    "    def __init__(self) -> None:\n",
    "        self._graph = dict()\n",
    "    \n",
    "    def edges(self,node):\n",
    "        return self._graph[node]\n",
    "    \n",
    "    def vertices(self):\n",
    "        return self._graph.keys()\n",
    "    \n",
    "    def add_vertex(self,vertex):\n",
    "        if vertex not in self._graph:\n",
    "            self._graph[vertex] = set()\n",
    "    \n",
    "    def  add_edge(self,edge):\n",
    "        x,y = edge\n",
    "        if (x,y) not in self._graph[x]:\n",
    "            self._graph[x].add((x,y))\n",
    "        if (y,x) not in self._graph[y]:\n",
    "            self._graph[y].add((y,x))\n",
    "    \n",
    "    def __str__(self):\n",
    "        str = \"Graph : \\n\"\n",
    "        for i in self._graph:\n",
    "            str += f\"{i} : {self._graph[i]}\\n\"\n",
    "        return str\n",
    "\n",
    "    def __iter__(self):\n",
    "        self._iter = iter(self._graph)\n",
    "        return self._iter\n",
    "    def __getitem__(self, item):\n",
    "        return self._graph[item]\n",
    "\n",
    "\n",
    "a = UndirectedGraph()\n",
    "a.add_vertex(\"A\")\n",
    "a.add_vertex(\"B\")\n",
    "a.add_vertex(\"C\")\n",
    "a.add_vertex(\"D\")\n",
    "\n",
    "a.add_edge((\"A\",\"B\"))\n",
    "a.add_edge((\"B\",\"C\"))\n",
    "a.add_edge((\"B\",\"D\"))\n",
    "a.add_edge((\"D\",\"C\"))\n",
    "\n",
    "print(a)\n",
    "print(a[\"A\"])\n",
    " \n",
    "\n"
   ]
  },
  {
   "cell_type": "markdown",
   "metadata": {},
   "source": [
    "#Directed graph iterable and subscritable\n",
    "\n",
    "simple example \n",
    "\n",
    "![alt text](directed.PNG \"Title\")"
   ]
  },
  {
   "cell_type": "code",
   "execution_count": 2,
   "metadata": {},
   "outputs": [
    {
     "name": "stdout",
     "output_type": "stream",
     "text": [
      "Graph : \n",
      "A : {('A', 'B')}\n",
      "B : {('B', 'C'), ('B', 'D')}\n",
      "C : set()\n",
      "D : {('D', 'C')}\n",
      "\n",
      "{('A', 'B')}\n"
     ]
    }
   ],
   "source": [
    "\n",
    "class DirectedGraph:\n",
    "    def __init__(self) -> None:\n",
    "        self._graph = dict()\n",
    "    \n",
    "    def edges(self,node):\n",
    "        return self._graph[node]\n",
    "    \n",
    "    def vertices(self):\n",
    "        return self._graph.keys()\n",
    "    \n",
    "    def add_vertex(self,vertex):\n",
    "        if vertex not in self._graph:\n",
    "            self._graph[vertex] = set()\n",
    "    \n",
    "    def  add_edge(self,edge):\n",
    "        x,y = edge\n",
    "        if (x,y) not in self._graph[x]:\n",
    "            self._graph[x].add((x,y))\n",
    "        \n",
    "    \n",
    "    def __str__(self):\n",
    "        str = \"Graph : \\n\"\n",
    "        for i in self._graph:\n",
    "            str += f\"{i} : {self._graph[i]}\\n\"\n",
    "        return str\n",
    "\n",
    "    def __iter__(self):\n",
    "        self._iter = iter(self._graph)\n",
    "        return self._iter\n",
    "    def __getitem__(self, item):\n",
    "        return self._graph[item]\n",
    "\n",
    "\n",
    "a = DirectedGraph()\n",
    "a.add_vertex(\"A\")\n",
    "a.add_vertex(\"B\")\n",
    "a.add_vertex(\"C\")\n",
    "a.add_vertex(\"D\")\n",
    "\n",
    "a.add_edge((\"A\",\"B\"))\n",
    "a.add_edge((\"B\",\"C\"))\n",
    "a.add_edge((\"B\",\"D\"))\n",
    "a.add_edge((\"D\",\"C\"))\n",
    "\n",
    "print(a)\n",
    "print(a[\"A\"])"
   ]
  },
  {
   "cell_type": "markdown",
   "metadata": {},
   "source": [
    "#Weighted and directed  graph iterable and subscritable\n",
    "\n",
    "simple example \n",
    "\n",
    "![alt text](weighted.PNG \"Title\")\n"
   ]
  },
  {
   "cell_type": "code",
   "execution_count": 3,
   "metadata": {},
   "outputs": [
    {
     "name": "stdout",
     "output_type": "stream",
     "text": [
      "Graph : \n",
      "A : {(('A', 'B'), 1)}\n",
      "B : {(('B', 'C'), 5), (('B', 'D'), 2)}\n",
      "C : set()\n",
      "D : {(('D', 'C'), 1)}\n",
      "\n",
      "{(('A', 'B'), 1)}\n",
      "A\n",
      "B\n",
      "C\n",
      "D\n"
     ]
    }
   ],
   "source": [
    "class WeightedGraph:\n",
    "    def __init__(self) -> None:\n",
    "        self._graph = dict()\n",
    "    def edges(self,node):\n",
    "        return self._graph[node]\n",
    "    \n",
    "    def vertices(self):\n",
    "        return self._graph.keys()\n",
    "    \n",
    "    def add_vertex(self,vertex):\n",
    "        if vertex not in self._graph:\n",
    "            self._graph[vertex] = set()\n",
    "    \n",
    "    def  add_edge(self,edge,weight = 1):\n",
    "        x,y = edge\n",
    "        if (x,y) not in self._graph[x]:\n",
    "            \n",
    "            self._graph[x].add(((x,y),weight))\n",
    "            \n",
    "            \n",
    "        \n",
    "    \n",
    "    def __str__(self):\n",
    "        str = \"Graph : \\n\"\n",
    "        for i in self._graph:\n",
    "            str += f\"{i} : {self._graph[i]}\\n\"\n",
    "        return str\n",
    "\n",
    "    def __iter__(self):\n",
    "        self._iter = iter(self._graph)\n",
    "        return self._iter\n",
    "    def __getitem__(self, item):\n",
    "        return self._graph[item]\n",
    "\n",
    "\n",
    "a = WeightedGraph()\n",
    "a.add_vertex(\"A\")\n",
    "a.add_vertex(\"B\")\n",
    "a.add_vertex(\"C\")\n",
    "a.add_vertex(\"D\")\n",
    "\n",
    "a.add_edge((\"A\",\"B\"),1)\n",
    "a.add_edge((\"B\",\"C\"),5)\n",
    "a.add_edge((\"B\",\"D\"),2)\n",
    "a.add_edge((\"D\",\"C\"),1)\n",
    "print(a)\n",
    "print(a[\"A\"])\n",
    "for i in a:\n",
    "    print(i)"
   ]
  },
  {
   "cell_type": "markdown",
   "metadata": {},
   "source": [
    "#bfs dfs iterative & dfs recursive\n"
   ]
  },
  {
   "cell_type": "code",
   "execution_count": 4,
   "metadata": {},
   "outputs": [],
   "source": [
    "def bfs(graph,s):\n",
    "    explored = set()\n",
    "    queue = []\n",
    "    queue.append(s)\n",
    "    while queue != []:\n",
    "        v = queue.pop(0)\n",
    "        for i in graph.edges(v):\n",
    "            w = i[1]\n",
    "            if w not in explored:\n",
    "                explored.add(w)\n",
    "                queue.append(w)\n",
    "    return explored\n",
    "\n",
    "def dfs_iter(graph,s):\n",
    "    explored = set()\n",
    "    unexplored  = set(graph.vertices())\n",
    "    stack = []\n",
    "    stack.append(s)\n",
    "    while stack != []:\n",
    "        v = stack.pop()\n",
    "        if v in unexplored:\n",
    "            explored.add(v)\n",
    "            for i in graph.edges(v):\n",
    "                stack.append(i[1])\n",
    "    return explored\n",
    "\n",
    "\n",
    "def _recu(graph,s,explored,unexplored):\n",
    "    explored.add(s)\n",
    "    for i in graph.edges(s):\n",
    "        if  i[1]  in unexplored:\n",
    "            _recu(graph,i[1],explored,unexplored)\n",
    "def dfs_recu(graph,s):\n",
    "    explored = set()\n",
    "    unexplored = set(graph.vertices())\n",
    "    _recu(graph,s,explored,unexplored)\n",
    "    return explored\n",
    "    \n"
   ]
  },
  {
   "cell_type": "code",
   "execution_count": 5,
   "metadata": {},
   "outputs": [
    {
     "name": "stdout",
     "output_type": "stream",
     "text": [
      "Graph : \n",
      "A : {('A', 'B')}\n",
      "B : {('B', 'C'), ('B', 'D')}\n",
      "C : set()\n",
      "D : {('D', 'C')}\n",
      "\n",
      "{'B', 'C', 'D'}\n",
      "{'A', 'B', 'D', 'C'}\n",
      "{'A', 'B', 'C', 'D'}\n"
     ]
    }
   ],
   "source": [
    "a = DirectedGraph()\n",
    "a.add_vertex(\"A\")\n",
    "a.add_vertex(\"B\")\n",
    "a.add_vertex(\"C\")\n",
    "a.add_vertex(\"D\")\n",
    "\n",
    "a.add_edge((\"A\",\"B\"))\n",
    "a.add_edge((\"B\",\"C\"))\n",
    "a.add_edge((\"B\",\"D\"))\n",
    "a.add_edge((\"D\",\"C\"))\n",
    "\n",
    "print(a)\n",
    "\n",
    "print(bfs(a,\"A\"))\n",
    "print(dfs_iter(a,\"A\"))\n",
    "print(dfs_recu(a,\"A\")) "
   ]
  }
 ],
 "metadata": {
  "interpreter": {
   "hash": "916dbcbb3f70747c44a77c7bcd40155683ae19c65e1c03b4aa3499c5328201f1"
  },
  "kernelspec": {
   "display_name": "Python 3.9.7 64-bit",
   "language": "python",
   "name": "python3"
  },
  "language_info": {
   "codemirror_mode": {
    "name": "ipython",
    "version": 3
   },
   "file_extension": ".py",
   "mimetype": "text/x-python",
   "name": "python",
   "nbconvert_exporter": "python",
   "pygments_lexer": "ipython3",
   "version": "3.9.7"
  },
  "orig_nbformat": 4
 },
 "nbformat": 4,
 "nbformat_minor": 2
}
